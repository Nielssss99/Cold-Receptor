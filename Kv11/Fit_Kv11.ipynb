{
 "cells": [
  {
   "cell_type": "markdown",
   "metadata": {},
   "source": [
    "# Load Packages"
   ]
  },
  {
   "cell_type": "code",
   "execution_count": 1,
   "metadata": {},
   "outputs": [],
   "source": [
    "import matplotlib.pyplot as plt\n",
    "from numba import njit\n",
    "import numpy as np"
   ]
  },
  {
   "cell_type": "markdown",
   "metadata": {},
   "source": [
    "# Functions for the Markov Model"
   ]
  },
  {
   "cell_type": "code",
   "execution_count": 3,
   "metadata": {},
   "outputs": [],
   "source": [
    "@njit(fastmath = True)\n",
    "def transition_matrix(Vm: np.float64) -> np.ndarray[np.float64]:\n",
    "    \"\"\"Goal:\n",
    "        This function returns the transition matrix of the Markov model for the\n",
    "        Kv11 channel at a given voltage Vm.\n",
    "        \n",
    "        Adapted from the KV11.1 Markov model described in:\n",
    "            Mazhari R, Greenstein JL, Winslow RL, Marbán E, Nuss HB. \n",
    "            Molecular interactions between two long-QT syndrome gene products, \n",
    "            HERG and KCNE2, rationalized by in vitro and in silico analysis. \n",
    "            Circ Res. 2001 Jul 6;89(1):33-8. doi: 10.1161/hh1301.093633. \n",
    "            PMID: 11440975.\n",
    "    ---------------------------------------------------------------------------\n",
    "    Input:\n",
    "        Vm: Membrane voltage [mV]\n",
    "    ---------------------------------------------------------------------------\n",
    "    Output:\n",
    "        Q: Transition matrix of the Markov model [s^-1]\"\"\"\n",
    "    # Transition rates [ms^-1]\n",
    "    # 5 States; 3 closed (C1, C2, C3), a transition state (I) and an open state (O)\n",
    "    # C1 - C2 - C3 - O\n",
    "    #            \\  /\n",
    "    #              I    \n",
    "    C1C2 = 0.0069 * np.exp(0.0272 * Vm) # Symbol in the paper --> a0\n",
    "    C2C1 = 0.0227 * np.exp(-0.0431 * Vm) # b0\n",
    "    C3O = 0.0218 * np.exp(0.0262 * Vm) # a1\n",
    "    OC3 = 0.0009 * np.exp(-0.0269 * Vm) # b1\n",
    "    OI = 0.0622 * np.exp(0.0120 * Vm) # ai\n",
    "    IO = 0.0059 * np.exp(-0.0443 * Vm) # bi\n",
    "    C2C3 = 0.0266 # kf\n",
    "    C3C2 = 0.1348 # kb\n",
    "    C3I = 1.29E-5 * np.exp(2.71E-6 * Vm) # ai3\n",
    "    IC3 = (OC3 * IO * C3I) / (C3O * OI) # Greek letter\n",
    "\n",
    "    # Transition matrix\n",
    "    Q = np.zeros((5, 5), dtype = np.float64)\n",
    "    Q[0, 0] = -C1C2 # C1\n",
    "    Q[0, 1] = C2C1\n",
    "    Q[1, 0] = C1C2 # C2\n",
    "    Q[1, 1] = -(C2C1 + C2C3)\n",
    "    Q[1, 2] = C3C2\n",
    "    Q[2, 2] = -(C3C2 + C3O + C3I) # C3\n",
    "    Q[2, 1] = C2C3\n",
    "    Q[2, 3] = OC3\n",
    "    Q[2, 4] = IC3\n",
    "    Q[3, 3] = -(OC3 + OI) # O\n",
    "    Q[3, 2] = C3O\n",
    "    Q[3, 4] = IO\n",
    "    Q[4, 4] = -(IO + IC3) # I\n",
    "    Q[4, 2] = C3I \n",
    "    Q[4, 3] = OI\n",
    "    \n",
    "    return Q * 1000 # ms^-1 to s^-1\n",
    "\n",
    "\n",
    "def steady_state(Vm: np.float64) -> np.ndarray[np.float64]:\n",
    "    \"\"\"Goal:\n",
    "        This function returns the steady state probabilities of the Markov model\n",
    "        for the Kv11 channel at a given voltage Vm.\n",
    "    ---------------------------------------------------------------------------\n",
    "    Input:\n",
    "        Vm: Membrane voltage [mV]\n",
    "    ---------------------------------------------------------------------------\n",
    "    Output:\n",
    "        steady_state: Steady state probabilities of the Markov model\n",
    "    \"\"\"\n",
    "    # Create transition matrix and adapt the last row in such a way that all\n",
    "    # have weight 1\n",
    "    Q = transition_matrix(Vm)\n",
    "    Q[-1, :] = 1\n",
    "    # Solve the linear system --> last equation ensures that sum of probabilities is 1\n",
    "    b = np.array([0, 0, 0, 0, 1])\n",
    "    steady_state = np.linalg.solve(Q, b)\n",
    "    return steady_state\n",
    "\n",
    "@njit(fastmath = True)\n",
    "def kv11(t: np.float64, y: np.ndarray[np.float64], Vm: np.float64) -> np.ndarray[np.float64]:\n",
    "    \"\"\"Goal:\n",
    "        This function returns the derivative of the state probabilities of the\n",
    "        Kv11 channel at a given voltage Vm.\n",
    "    ---------------------------------------------------------------------------\n",
    "    Input:\n",
    "        t: Time [s]\n",
    "        y: State probabilities of the Markov model\n",
    "        Vm: Membrane voltage [mV]\n",
    "    ---------------------------------------------------------------------------\n",
    "    Output:\n",
    "        dydt: Derivative of the state probabilities of the Markov model\n",
    "    \"\"\"\n",
    "    Q = transition_matrix(Vm)\n",
    "    return Q @ y\n"
   ]
  }
 ],
 "metadata": {
  "kernelspec": {
   "display_name": "Python 3",
   "language": "python",
   "name": "python3"
  },
  "language_info": {
   "codemirror_mode": {
    "name": "ipython",
    "version": 3
   },
   "file_extension": ".py",
   "mimetype": "text/x-python",
   "name": "python",
   "nbconvert_exporter": "python",
   "pygments_lexer": "ipython3",
   "version": "3.10.11"
  }
 },
 "nbformat": 4,
 "nbformat_minor": 2
}
